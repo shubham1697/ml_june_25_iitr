{
 "cells": [
  {
   "cell_type": "markdown",
   "metadata": {},
   "source": []
  },
  {
   "cell_type": "markdown",
   "metadata": {},
   "source": [
    "#### Q1. Choose your base between 3 and 13. And write upto 3 three digit numbers in that base.\n",
    "\n",
    "A. Base 8\n",
    "\n",
    "0, 1... 7, 10 ... 17, 20...27, 30...37, 40...47, 50...57, 60...67, 70...77, 100...107, 110...117, 120...127...\n",
    "770...777, 1000 and so on "
   ]
  },
  {
   "cell_type": "markdown",
   "metadata": {},
   "source": [
    "#### Q2. Add/Substract single digit and multiple digits in your number system\n",
    "\n",
    "A. \n",
    "  |  0  1  2  3  4  5  6  7\n",
    "__|_________________________\n",
    "0 |  0  1  2  3  4  5  6  7\n",
    "1 |  1  2  3  4  5  6  7  10\n",
    "2 |  2  3  4  5  6  7  10 11\n",
    "3 |  3  4  5  6  7  10 11 12\n",
    "4 |  4  5  6  7  10 11 12 13\n",
    "5 |  5  6  7  10 11 12 13 14\n",
    "6 |  6  7  10 11 12 13 14 15\n",
    "7 |  7  10 11 12 13 14 15 16"
   ]
  },
  {
   "cell_type": "markdown",
   "metadata": {},
   "source": [
    "#### Q3. Prepare a table of single digit multiplications in your number system.\n",
    "\n",
    "A. \n",
    "  |  0  1  2  3  4  5  6  7\n",
    "__|_________________________\n",
    "0 |  0  0  0  0  0  0  0  0\n",
    "1 |  0  1  2  3  4  5  6  7\n",
    "2 |  0  2  4  6  10 12 14 16\n",
    "3 |  0  3  6  11 14 17 22 25\n",
    "4 |  0  4  10 14 20 24 30 34\n",
    "5 |  0  5  12 17 24 31 36 43\n",
    "6 |  0  6  14 22 30 36 44 52\n",
    "7 |  0  7  16 25 34 43 52 61"
   ]
  },
  {
   "cell_type": "markdown",
   "metadata": {},
   "source": [
    "#### Q4: Multiply multiple digits in your number system\n",
    "\n",
    "A.\n",
    "55*22\n",
    " 132\n",
    "132+\n",
    "\n",
    "-----\n",
    "1452\n",
    "\n",
    "76*34\n",
    " 370\n",
    "272+\n",
    "\n",
    "-----\n",
    "3310"
   ]
  },
  {
   "cell_type": "markdown",
   "metadata": {},
   "source": [
    "#### Q5: Convert 1, 10, 20, 30, 100 from your base to base10.\n",
    "\n",
    "#### Q6. Write a strategy to convert a number in your base to base 10 in plain english or pseudo code or python\n",
    "\n",
    "1. Initialize result = 0 and multiplier = 1 \n",
    "2. Repeatedly get the remainder of the input number\n",
    "3. At each iteration,\n",
    "    - multiply the rem with the multiplier\n",
    "    - multiplier will increase by multiple of base to be converted to\n",
    "    - keep adding multiplication of remainder and multiplier to result"
   ]
  },
  {
   "cell_type": "code",
   "execution_count": 25,
   "metadata": {},
   "outputs": [
    {
     "name": "stdout",
     "output_type": "stream",
     "text": [
      "9\n",
      "35\n",
      "17\n"
     ]
    }
   ],
   "source": [
    "# Converting any base to decimal\n",
    "#    - won't work for base > 10\n",
    "#    - and if invalid digit is passed for num\n",
    "\n",
    "#convert base n to base 10\n",
    "def convertToDecimal(num, base):\n",
    "    result = 0\n",
    "    mul = 1\n",
    "    while num > 0:\n",
    "        rem = num % 10\n",
    "#         if rem >= base:\n",
    "#             print(\"invalid input\")\n",
    "#             return\n",
    "        num //= 10\n",
    "        result += rem * mul\n",
    "        mul *= base\n",
    "    \n",
    "    return result\n",
    "\n",
    "\n",
    "#convert base n to base 10 recursively\n",
    "def convertToDecimalRec(num, base):\n",
    "    return convertToDecimalRecHelper(num, base, 1)\n",
    "    \n",
    "def convertToDecimalRecHelper(num, base, mul):\n",
    "    if num == 0:\n",
    "        return 0\n",
    "    rem = num % 10\n",
    "    return convertToDecimalRecHelper(num // 10, base, mul * base) + rem*mul\n",
    "\n",
    "\n",
    "\n",
    "print(convertToDecimal(13, 6))\n",
    "# print(convertToDecimalRec(13, 6))\n",
    "\n",
    "print(convertToDecimal(55, 6))\n",
    "# print(convertToDecimalRec(55, 6))\n",
    "\n",
    "print(convertToDecimal(25, 6))\n",
    "# print(convertToDecimalRec(25, 6))"
   ]
  },
  {
   "cell_type": "markdown",
   "metadata": {},
   "source": [
    "#### Q7. Write a strategy to convert a number in base N to base M in plain english or pseudo code or python"
   ]
  },
  {
   "cell_type": "code",
   "execution_count": 27,
   "metadata": {},
   "outputs": [
    {
     "name": "stdout",
     "output_type": "stream",
     "text": [
      "21\n",
      "1022\n",
      "10001\n",
      "21\n",
      "1022\n",
      "10001\n"
     ]
    }
   ],
   "source": [
    "#convert base 10 to base n\n",
    "def convertToBaseN(num, base):\n",
    "    result = 0\n",
    "    mul = 1\n",
    "    while num > 0:\n",
    "        rem = num % base\n",
    "        result += rem * mul\n",
    "        num //= base\n",
    "        mul *= 10\n",
    "    \n",
    "    return result\n",
    "\n",
    "print(convertToBaseN(9, 4))\n",
    "print(convertToBaseN(35, 3))\n",
    "print(convertToBaseN(17, 2))\n",
    "\n",
    "def convertBaseNtoBaseM(num, from_base, to_base):\n",
    "    decimal_num = convertToDecimal(num, from_base)\n",
    "    return convertToBaseN(decimal_num, to_base)\n",
    "\n",
    "print(convertBaseNtoBaseM(13, 6, 4))\n",
    "print(convertBaseNtoBaseM(55, 6, 3))\n",
    "print(convertBaseNtoBaseM(25, 6, 2))"
   ]
  },
  {
   "cell_type": "code",
   "execution_count": null,
   "metadata": {},
   "outputs": [],
   "source": []
  }
 ],
 "metadata": {
  "kernelspec": {
   "display_name": "Python 3",
   "language": "python",
   "name": "python3"
  },
  "language_info": {
   "codemirror_mode": {
    "name": "ipython",
    "version": 3
   },
   "file_extension": ".py",
   "mimetype": "text/x-python",
   "name": "python",
   "nbconvert_exporter": "python",
   "pygments_lexer": "ipython3",
   "version": "3.6.8"
  },
  "toc": {
   "base_numbering": 1,
   "nav_menu": {},
   "number_sections": true,
   "sideBar": true,
   "skip_h1_title": false,
   "title_cell": "Table of Contents",
   "title_sidebar": "Contents",
   "toc_cell": false,
   "toc_position": {},
   "toc_section_display": true,
   "toc_window_display": false
  }
 },
 "nbformat": 4,
 "nbformat_minor": 2
}
